{
 "cells": [
  {
   "cell_type": "code",
   "execution_count": 1,
   "id": "705296a7",
   "metadata": {},
   "outputs": [
    {
     "name": "stdout",
     "output_type": "stream",
     "text": [
      "200\n"
     ]
    }
   ],
   "source": [
    "# 수집 대상 : http://news.daum.net/\n",
    "# 페이지로 요청 -> 응답\n",
    "from urllib.request import urlopen\n",
    "\n",
    "# HTTP 요청\n",
    "req = urlopen(\"https://news.daum.net/\")\n",
    "print(req.getcode()) # 200 -> Success\n",
    "\n",
    "html = req.read() #응답 읽어오기\n",
    "# 인코딩이 깨짐 -> UTF-8로 변환\n",
    "html = html.decode(\"UTF-8\")\n",
    "#print(html)\n"
   ]
  },
  {
   "cell_type": "code",
   "execution_count": 2,
   "id": "a9f4f53d",
   "metadata": {},
   "outputs": [
    {
     "name": "stdout",
     "output_type": "stream",
     "text": [
      "문서 제목: <title>홈 | 다음뉴스</title> <class 'bs4.element.Tag'>\n",
      "태그명: title\n",
      "홈 | 다음뉴스 홈 | 다음뉴스\n"
     ]
    }
   ],
   "source": [
    "# 객체화\n",
    "from bs4 import BeautifulSoup\n",
    "# Tree 객체화\n",
    "soup = BeautifulSoup(html,\"html.parser\") #soup 생성\n",
    "#print(soup.prettify())\n",
    "# 문서 정보의 확인\n",
    "print(\"문서 제목:\", soup.title, type(soup.title))\n",
    "print(\"태그명:\", soup.title.name) # 태그이름\n",
    "print(soup.title.text, soup.title.string)"
   ]
  },
  {
   "cell_type": "code",
   "execution_count": 7,
   "id": "03507c92",
   "metadata": {},
   "outputs": [
    {
     "ename": "AttributeError",
     "evalue": "ResultSet object has no attribute 'select'. You're probably treating a list of elements like a single element. Did you call find_all() when you meant to call find()?",
     "output_type": "error",
     "traceback": [
      "\u001b[1;31m---------------------------------------------------------------------------\u001b[0m",
      "\u001b[1;31mAttributeError\u001b[0m                            Traceback (most recent call last)",
      "\u001b[1;32m<ipython-input-7-f394c4e68cdc>\u001b[0m in \u001b[0;36m<module>\u001b[1;34m\u001b[0m\n\u001b[0;32m      4\u001b[0m \u001b[1;31m# #mAricle 아래에서 a.link_txt 태그들을 선택\u001b[0m\u001b[1;33m\u001b[0m\u001b[1;33m\u001b[0m\u001b[1;33m\u001b[0m\u001b[0m\n\u001b[0;32m      5\u001b[0m \u001b[1;31m# links = articles.select(\"a.link_txt\") # Tag의 list\u001b[0m\u001b[1;33m\u001b[0m\u001b[1;33m\u001b[0m\u001b[1;33m\u001b[0m\u001b[0m\n\u001b[1;32m----> 6\u001b[1;33m \u001b[0mlinks\u001b[0m \u001b[1;33m=\u001b[0m \u001b[0marticles\u001b[0m\u001b[1;33m.\u001b[0m\u001b[0mselect\u001b[0m\u001b[1;33m(\u001b[0m\u001b[1;34m\"a.link_txt\"\u001b[0m\u001b[1;33m)\u001b[0m\u001b[1;33m\u001b[0m\u001b[1;33m\u001b[0m\u001b[0m\n\u001b[0m\u001b[0;32m      7\u001b[0m \u001b[1;31m# print(links)\u001b[0m\u001b[1;33m\u001b[0m\u001b[1;33m\u001b[0m\u001b[1;33m\u001b[0m\u001b[0m\n\u001b[0;32m      8\u001b[0m \u001b[1;31m# print(len(links))\u001b[0m\u001b[1;33m\u001b[0m\u001b[1;33m\u001b[0m\u001b[1;33m\u001b[0m\u001b[0m\n",
      "\u001b[1;32mc:\\users\\이동현\\appdata\\local\\programs\\python\\python39\\lib\\site-packages\\bs4\\element.py\u001b[0m in \u001b[0;36m__getattr__\u001b[1;34m(self, key)\u001b[0m\n\u001b[0;32m   2171\u001b[0m     \u001b[1;32mdef\u001b[0m \u001b[0m__getattr__\u001b[0m\u001b[1;33m(\u001b[0m\u001b[0mself\u001b[0m\u001b[1;33m,\u001b[0m \u001b[0mkey\u001b[0m\u001b[1;33m)\u001b[0m\u001b[1;33m:\u001b[0m\u001b[1;33m\u001b[0m\u001b[1;33m\u001b[0m\u001b[0m\n\u001b[0;32m   2172\u001b[0m         \u001b[1;34m\"\"\"Raise a helpful exception to explain a common code fix.\"\"\"\u001b[0m\u001b[1;33m\u001b[0m\u001b[1;33m\u001b[0m\u001b[0m\n\u001b[1;32m-> 2173\u001b[1;33m         raise AttributeError(\n\u001b[0m\u001b[0;32m   2174\u001b[0m             \u001b[1;34m\"ResultSet object has no attribute '%s'. You're probably treating a list of elements like a single element. Did you call find_all() when you meant to call find()?\"\u001b[0m \u001b[1;33m%\u001b[0m \u001b[0mkey\u001b[0m\u001b[1;33m\u001b[0m\u001b[1;33m\u001b[0m\u001b[0m\n\u001b[0;32m   2175\u001b[0m         )\n",
      "\u001b[1;31mAttributeError\u001b[0m: ResultSet object has no attribute 'select'. You're probably treating a list of elements like a single element. Did you call find_all() when you meant to call find()?"
     ]
    }
   ],
   "source": [
    "# 다음 뉴스 홈에서 #mArticle인 div 선택\n",
    "articles = soup.select(\"#mArticle\")\n",
    "# print(articles)\n",
    "# #mAricle 아래에서 a.link_txt 태그들을 선택\n",
    "# links = articles.select(\"a.link_txt\") # Tag의 list\n",
    "links = articles.select(\"a.link_txt\")\n",
    "# print(links)\n",
    "# print(len(links))\n",
    "\n",
    "# 기사의 제목, 링크 -> 사전 -> 리스트에 적재\n",
    "news_list = []\n",
    "for link in links:\n",
    "#    print(link)\n",
    "    news = {\n",
    "        \"title\": link.text,\n",
    "        \"link\": link['href'] # 속성 가져오기\n",
    "    }\n",
    "    news_list.append(news)\n",
    "\n",
    "print(\"오늘자 주요 뉴스:{}개\".format(len(news_list)))\n",
    "for news in enumerate(news_list):\n",
    "    print(\"{}: {} - {}\".format(index + 1,\n",
    "                              news.get('title'),\n",
    "                              news.get('link')))\n",
    "\n",
    "# TODO : 다른 영역의 뉴스도 수집해 봅시다"
   ]
  }
 ],
 "metadata": {
  "kernelspec": {
   "display_name": "Python 3",
   "language": "python",
   "name": "python3"
  },
  "language_info": {
   "codemirror_mode": {
    "name": "ipython",
    "version": 3
   },
   "file_extension": ".py",
   "mimetype": "text/x-python",
   "name": "python",
   "nbconvert_exporter": "python",
   "pygments_lexer": "ipython3",
   "version": "3.9.5"
  }
 },
 "nbformat": 4,
 "nbformat_minor": 5
}
